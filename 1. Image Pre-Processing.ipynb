{
 "cells": [
  {
   "cell_type": "markdown",
   "id": "e772b136",
   "metadata": {},
   "source": [
    "# 1. Import Dependencies"
   ]
  },
  {
   "cell_type": "code",
   "execution_count": 2,
   "id": "ba52176c",
   "metadata": {},
   "outputs": [],
   "source": [
    "# !pip install opencv-python"
   ]
  },
  {
   "cell_type": "code",
   "execution_count": 1,
   "id": "267d1a29",
   "metadata": {},
   "outputs": [],
   "source": [
    "# Import opencv\n",
    "import cv2 \n",
    "\n",
    "# Import uuid\n",
    "import uuid\n",
    "\n",
    "# Import Operating System\n",
    "import os\n",
    "\n",
    "# Import time\n",
    "import time\n",
    "\n",
    "# for handling files and paths\n",
    "from pathlib import Path"
   ]
  },
  {
   "cell_type": "markdown",
   "id": "23e2edd1",
   "metadata": {},
   "source": [
    "# 2. Define Images to Collect"
   ]
  },
  {
   "cell_type": "code",
   "execution_count": 2,
   "id": "f5c0ada0",
   "metadata": {},
   "outputs": [],
   "source": [
    "labels = ['resistor', 'current_src', 'voltage_src', 'battery', 'capacitor', 'inductor']"
   ]
  },
  {
   "cell_type": "markdown",
   "id": "0d7a681c",
   "metadata": {},
   "source": [
    "# 3. Setup Folders"
   ]
  },
  {
   "cell_type": "code",
   "execution_count": 3,
   "id": "cecca5fd",
   "metadata": {},
   "outputs": [],
   "source": [
    "IMAGES_PATH = os.path.join('Tensorflow', 'workspace', 'images', 'collectedimages')\n",
    "REQ_FILES = ['test', 'train']"
   ]
  },
  {
   "cell_type": "code",
   "execution_count": 6,
   "id": "33b5e301",
   "metadata": {},
   "outputs": [],
   "source": [
    "if not os.path.exists(IMAGES_PATH):\n",
    "    if os.name == 'posix':\n",
    "        !mkdir -p {IMAGES_PATH}\n",
    "    if os.name == 'nt':\n",
    "         !mkdir {IMAGES_PATH}"
   ]
  },
  {
   "cell_type": "markdown",
   "id": "a310cbbf",
   "metadata": {},
   "source": [
    "# 4. Image Renaming"
   ]
  },
  {
   "cell_type": "code",
   "execution_count": null,
   "id": "a9cbf27e",
   "metadata": {},
   "outputs": [],
   "source": [
    "# for filename in os.listdir(IMAGES_PATH):\n",
    "#     src_path = os.path.join(IMAGES_PATH, filename)\n",
    "#     dst_path = os.path.join(IMAGES_PATH,'{}.jpg'.format(str(uuid.uuid1())))\n",
    "#     os.rename(src_path, dst_path)"
   ]
  },
  {
   "cell_type": "markdown",
   "id": "edc630d3",
   "metadata": {},
   "source": [
    "# 5. Image Labeling"
   ]
  },
  {
   "cell_type": "code",
   "execution_count": null,
   "id": "94306cfa",
   "metadata": {},
   "outputs": [],
   "source": [
    "# !pip install --upgrade pyqt5 lxml"
   ]
  },
  {
   "cell_type": "code",
   "execution_count": null,
   "id": "98b61405",
   "metadata": {},
   "outputs": [],
   "source": [
    "LABELIMG_PATH = os.path.join('Tensorflow', 'labelimg')"
   ]
  },
  {
   "cell_type": "code",
   "execution_count": null,
   "id": "31255e5c",
   "metadata": {},
   "outputs": [],
   "source": [
    "if not os.path.exists(LABELIMG_PATH):\n",
    "    !mkdir {LABELIMG_PATH}\n",
    "    !git clone https://github.com/tzutalin/labelImg {LABELIMG_PATH}"
   ]
  },
  {
   "cell_type": "code",
   "execution_count": null,
   "id": "48b0039b",
   "metadata": {},
   "outputs": [],
   "source": [
    "if os.name == 'posix':\n",
    "    !make qt5py3\n",
    "if os.name =='nt':\n",
    "    !cd {LABELIMG_PATH} && pyrcc5 -o libs/resources.py resources.qrc"
   ]
  },
  {
   "cell_type": "code",
   "execution_count": null,
   "id": "c4b0c505",
   "metadata": {},
   "outputs": [],
   "source": [
    "!cd {LABELIMG_PATH} && python labelImg.py"
   ]
  },
  {
   "cell_type": "markdown",
   "id": "a879a753",
   "metadata": {},
   "source": [
    "# 6. Move them into a Training and Testing Partition"
   ]
  },
  {
   "cell_type": "code",
   "execution_count": null,
   "id": "9df4e75a",
   "metadata": {},
   "outputs": [],
   "source": [
    "# Enter in this format: 80, 20 \n",
    "train_split, test_split = 80, 20"
   ]
  },
  {
   "cell_type": "code",
   "execution_count": null,
   "id": "6423c724",
   "metadata": {},
   "outputs": [],
   "source": [
    "if not os.path.exists(IMAGES_PATH):\n",
    "    if os.name == 'posix':\n",
    "        !mkdir -p {IMAGES_PATH}\n",
    "    if os.name == 'nt':\n",
    "         !mkdir {IMAGES_PATH}\n",
    "            \n",
    "TT_PATH = str(Path(IMAGES_PATH).parents[0])\n",
    "for req_files in REQ_FILES:\n",
    "    path = os.path.join(TT_PATH, req_files)\n",
    "    if not os.path.exists(path):\n",
    "        !mkdir {path}"
   ]
  },
  {
   "cell_type": "code",
   "execution_count": null,
   "id": "993f84a4",
   "metadata": {},
   "outputs": [],
   "source": [
    "dir_list = os.listdir(IMAGES_PATH)\n",
    "label_len = len(labels)\n",
    "count, prev_item = 0, 0\n",
    "train_split_val = int(len(dir_list) * 0.01 * train_split / label_len)\n",
    "test_split_val = int(len(dir_list) * 0.01 * test_split / label_len)\n",
    "\n",
    "for index, items in enumerate(dir_list):\n",
    "    if count < train_split_val:\n",
    "        \n",
    "        # moving files\n",
    "        source = IMAGES_PATH\n",
    "        destination = os.path.join(TT_PATH, 'train')\n",
    "        src_path = os.path.join(source, items)\n",
    "        dst_path = os.path.join(destination, items)\n",
    "        os.rename(src_path, dst_path)\n",
    "        count += 1\n",
    "        \n",
    "    else:\n",
    "        # moving files\n",
    "        source = IMAGES_PATH\n",
    "        destination = os.path.join(TT_PATH, 'test')\n",
    "        src_path = os.path.join(source, items)\n",
    "        dst_path = os.path.join(destination, items)\n",
    "        os.rename(src_path, dst_path)\n",
    "\n",
    "        # count reset\n",
    "        test_complement = len(dir_list) / label_len - count\n",
    "        count += 1\n",
    "        current_item = items.split('.')[:-1]\n",
    "        if prev_item == current_item and test_complement <= 1:\n",
    "            count = 0\n",
    "        prev_item = current_item"
   ]
  },
  {
   "cell_type": "markdown",
   "id": "24287de4",
   "metadata": {},
   "source": [
    "# OPTIONAL - 7. Compress them for Colab Training"
   ]
  },
  {
   "cell_type": "code",
   "execution_count": 4,
   "id": "58fbd544",
   "metadata": {},
   "outputs": [],
   "source": [
    "TRAIN_PATH = os.path.join('Tensorflow', 'workspace', 'images', 'train')\n",
    "TEST_PATH = os.path.join('Tensorflow', 'workspace', 'images', 'test')\n",
    "ARCHIVE_PATH = os.path.join('Tensorflow', 'workspace', 'images', 'archive.tar.gz')"
   ]
  },
  {
   "cell_type": "code",
   "execution_count": 5,
   "id": "697740ea",
   "metadata": {},
   "outputs": [],
   "source": [
    "!tar -czf {ARCHIVE_PATH} {TRAIN_PATH} {TEST_PATH}"
   ]
  },
  {
   "cell_type": "code",
   "execution_count": null,
   "id": "b2cf8b96",
   "metadata": {},
   "outputs": [],
   "source": []
  }
 ],
 "metadata": {
  "kernelspec": {
   "display_name": "tfod_GPU",
   "language": "python",
   "name": "tfod_gpu"
  },
  "language_info": {
   "codemirror_mode": {
    "name": "ipython",
    "version": 3
   },
   "file_extension": ".py",
   "mimetype": "text/x-python",
   "name": "python",
   "nbconvert_exporter": "python",
   "pygments_lexer": "ipython3",
   "version": "3.9.6"
  }
 },
 "nbformat": 4,
 "nbformat_minor": 5
}
